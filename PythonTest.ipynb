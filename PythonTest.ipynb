{
  "nbformat": 4,
  "nbformat_minor": 0,
  "metadata": {
    "colab": {
      "provenance": [],
      "authorship_tag": "ABX9TyPVADUfMimRVU65Bzc8PBPB",
      "include_colab_link": true
    },
    "kernelspec": {
      "name": "python3",
      "display_name": "Python 3"
    },
    "language_info": {
      "name": "python"
    }
  },
  "cells": [
    {
      "cell_type": "markdown",
      "metadata": {
        "id": "view-in-github",
        "colab_type": "text"
      },
      "source": [
        "<a href=\"https://colab.research.google.com/github/ororororr/first-example/blob/main/PythonTest.ipynb\" target=\"_parent\"><img src=\"https://colab.research.google.com/assets/colab-badge.svg\" alt=\"Open In Colab\"/></a>"
      ]
    },
    {
      "cell_type": "code",
      "execution_count": null,
      "metadata": {
        "id": "_pNTFY8c4fAY"
      },
      "outputs": [],
      "source": []
    },
    {
      "cell_type": "markdown",
      "source": [
        "# This is the heading\n",
        "##This is the title\n",
        "###This is the sub-title\n",
        "\n",
        "---\n",
        "\n",
        "**I am going to make a list:**\n",
        "\n",
        "*   List item 1\n",
        "*   List item 2\n",
        "*   List item 3\n",
        "\n",
        "✅"
      ],
      "metadata": {
        "id": "PQpDsapK422b"
      }
    },
    {
      "cell_type": "code",
      "source": [
        "# prompt: randomly select 1 items from a list\n",
        "\n",
        "import random\n",
        "\n",
        "def randomly_select_one(input_list):\n",
        "    if not input_list:\n",
        "      return None\n",
        "    return random.choice(input_list)\n",
        "\n",
        "my_list = [\"List item 1\", \"List item 2\", \"List item 3\"]\n",
        "random_item = randomly_select_one(my_list)\n",
        "random_item\n"
      ],
      "metadata": {
        "colab": {
          "base_uri": "https://localhost:8080/",
          "height": 35
        },
        "id": "TsYfFH3t73FF",
        "outputId": "5b035737-853f-4966-e7f9-1ce3ac72d83d"
      },
      "execution_count": null,
      "outputs": [
        {
          "output_type": "execute_result",
          "data": {
            "text/plain": [
              "'List item 1'"
            ],
            "application/vnd.google.colaboratory.intrinsic+json": {
              "type": "string"
            }
          },
          "metadata": {},
          "execution_count": 2
        }
      ]
    }
  ]
}